{
 "cells": [
  {
   "cell_type": "code",
   "execution_count": 1,
   "id": "b386025a",
   "metadata": {},
   "outputs": [],
   "source": [
    "import pandas as pd\n",
    "from tensorflow.keras.preprocessing.text import Tokenizer  # type: ignore\n",
    "from tensorflow.keras.preprocessing.sequence import pad_sequences  # type: ignore\n",
    "import re\n",
    "import string\n",
    "from tqdm import tqdm\n",
    "import numpy as np\n",
    "import os \n",
    "import gensim\n",
    "from gensim.models import KeyedVectors\n",
    "import sklearn\n",
    "from sklearn.model_selection import train_test_split\n",
    "from sklearn.feature_extraction.text import TfidfVectorizer, CountVectorizer\n",
    "from sklearn.linear_model import LogisticRegression \n",
    "from sklearn.naive_bayes import GaussianNB, MultinomialNB\n",
    "import sklearn.metrics as metrics\n",
    "from sklearn.decomposition import TruncatedSVD\n",
    "from sklearn.svm import SVC \n",
    "from sklearn.ensemble import RandomForestClassifier\n",
    "from sklearn.preprocessing import LabelEncoder\n",
    "from tensorflow.keras.utils import text_dataset_from_directory   # type: ignore\n",
    "import matplotlib.pyplot as plt\n",
    "from pathlib import Path\n",
    "import warnings\n",
    "warnings.filterwarnings(\"ignore\")"
   ]
  },
  {
   "cell_type": "markdown",
   "id": "4f760142",
   "metadata": {},
   "source": [
    "# Đọc DATA và kiểm tra độ lệch của DATA "
   ]
  },
  {
   "cell_type": "code",
   "execution_count": 2,
   "id": "1cea4d47",
   "metadata": {},
   "outputs": [
    {
     "name": "stdout",
     "output_type": "stream",
     "text": [
      "Found 30000 files belonging to 2 classes.\n",
      "Found 10000 files belonging to 2 classes.\n",
      "Found 10000 files belonging to 2 classes.\n",
      "['neg', 'pos'] ['neg', 'pos'] ['neg', 'pos']\n",
      "469 157 157\n"
     ]
    }
   ],
   "source": [
    "path_train = \"DATA/data_train/data_train/train\"\n",
    "path_val = \"DATA/data_train/data_train/test\"\n",
    "path_test = \"DATA/data_test/data_test/test\"\n",
    "\n",
    "\n",
    "train_df = text_dataset_from_directory(path_train,\n",
    "                                     batch_size=64,\n",
    "                                     shuffle=True,\n",
    "                                     seed=123)\n",
    "\n",
    "val_df = text_dataset_from_directory(path_val,\n",
    "                                   batch_size=64,\n",
    "                                   shuffle=False,\n",
    "                                   seed=123)\n",
    "\n",
    "test_df = text_dataset_from_directory(path_test,\n",
    "                                    batch_size=64,\n",
    "                                    shuffle=False,\n",
    "                                    seed=123)\n",
    "\n",
    "\n",
    "print(train_df.class_names, val_df.class_names, test_df.class_names)\n",
    "print(len(train_df), len(val_df), len(test_df))"
   ]
  },
  {
   "cell_type": "code",
   "execution_count": 3,
   "id": "50d8ba3a",
   "metadata": {},
   "outputs": [
    {
     "data": {
      "image/png": "[encoded data removed]",
      "text/plain": [
       "<Figure size 800x500 with 1 Axes>"
      ]
     },
     "metadata": {},
     "output_type": "display_data"
    }
   ],
   "source": [
    "def plot_split_grouped_by_class(base_dir,\n",
    "                                train_name=\"train\",\n",
    "                                val_name=\"test\",\n",
    "                                test_name=\"test\",\n",
    "                                ext_filter=('.txt',)):\n",
    "    base = Path(base_dir)\n",
    "    train_dir = base / \"data_train\" / \"data_train\" / train_name\n",
    "    val_dir   = base / \"data_train\" / \"data_train\" / val_name\n",
    "    test_dir  = base / \"data_test\"  / \"data_test\"  / test_name\n",
    "\n",
    "    def discover_classes(*dirs):\n",
    "        classes = set()\n",
    "        for d in dirs:\n",
    "            if d.exists() and d.is_dir():\n",
    "                for p in d.iterdir():\n",
    "                    if p.is_dir():\n",
    "                        classes.add(p.name)\n",
    "        ordered = []\n",
    "        for c in ('neg', 'pos', 'negative', 'positive'):\n",
    "            if c in classes:\n",
    "                ordered.append(c)\n",
    "        # thêm các lớp còn lại\n",
    "        for c in sorted(classes):\n",
    "            if c not in ordered:\n",
    "                ordered.append(c)\n",
    "        return ordered\n",
    "\n",
    "    classes = discover_classes(train_dir, val_dir, test_dir)\n",
    "    if len(classes) == 0:\n",
    "        print(\"Không tìm thấy lớp (class) nào. Kiểm tra đường dẫn.\")\n",
    "        return\n",
    "\n",
    "    def count_in_dir(dir_path, cls):\n",
    "        p = Path(dir_path) / cls\n",
    "        if not p.exists():\n",
    "            return 0\n",
    "        if ext_filter is None:\n",
    "            return sum(1 for _ in p.rglob('*') if _.is_file() and not _.name.startswith('.'))\n",
    "        else:\n",
    "            return sum(1 for _ in p.rglob('*') if _.is_file() and _.suffix.lower() in ext_filter and not _.name.startswith('.'))\n",
    "\n",
    "    splits_dirs = [(\"Train\", train_dir), (\"Val\", val_dir), (\"Test\", test_dir)]\n",
    "    counts = []\n",
    "    for name, d in splits_dirs:\n",
    "        row = [count_in_dir(d, c) for c in classes]\n",
    "        counts.append(row)\n",
    "    counts = np.array(counts)  \n",
    "\n",
    "    split_totals = counts.sum(axis=1)\n",
    "\n",
    "    n_splits = counts.shape[0]\n",
    "    n_classes = counts.shape[1]\n",
    "    x = np.arange(n_splits)\n",
    "    width = 0.8 / max(1, n_classes)\n",
    "\n",
    "    fig, ax = plt.subplots(figsize=(8, 5))\n",
    "    bars = []\n",
    "    for j in range(n_classes):\n",
    "        offsets = x - 0.4 + (j + 0.5) * width\n",
    "        b = ax.bar(offsets, counts[:, j], width, label=classes[j])\n",
    "        bars.append(b)\n",
    "\n",
    "    max_height = int(counts.max() if counts.size else 0)\n",
    "    top_margin_factor = 1.25\n",
    "    ax.set_ylim(0, max(1, int(max_height * top_margin_factor)))\n",
    "\n",
    "    for j, bset in enumerate(bars):\n",
    "        for i, bar in enumerate(bset):\n",
    "            h = int(bar.get_height())\n",
    "            total = split_totals[i]\n",
    "            pct = (h / total * 100.0) if total > 0 else 0.0\n",
    "            offset = max(1, int(max_height * 0.02))\n",
    "            ax.text(bar.get_x() + bar.get_width()/2., h + offset,\n",
    "                    f\"{h}\\n({pct:.1f}%)\",\n",
    "                    ha='center', va='bottom', fontsize=9)\n",
    "\n",
    "    ax.set_xticks(x)\n",
    "    ax.set_xticklabels([s for s, _ in splits_dirs])\n",
    "    ax.set_ylabel(\"Số lượng file\")\n",
    "    ax.set_title(\"Kiểm tra độ lệch của data\", pad=18)\n",
    "    ax.legend(title=\"Class\")\n",
    "    plt.tight_layout()\n",
    "    plt.subplots_adjust(top=0.88)\n",
    "    plt.show()\n",
    "\n",
    "plot_split_grouped_by_class(\"DATA\")\n"
   ]
  },
  {
   "cell_type": "code",
   "execution_count": 4,
   "metadata": {},
   "outputs": [
    {
     "name": "stdout",
     "output_type": "stream",
     "text": [
      "DATA/data_train/data_train/train/neg/1536.txt\n",
      "mình ăn được một thời_gian lâu , giờ mới fb , nhưng có gì đấy sai sai . Hôm đi đến đúng địa_chỉ rồi thì thấy hàng này , vào gọi đồ thì nhìn hoa không có thanh_long đỏ T . T mác nhìn cũn không phải lak lak , bơ hôm đấy hơi đắng , chân trâu cứng , hoa_quả nhạt ,\n",
      "\n"
     ]
    }
   ],
   "source": [
    "import random\n",
    "path_0 = 'DATA/data_train/data_train/train'\n",
    "path_1 = random.choice(os.listdir(path_0))\n",
    "path_2 = random.randint(0, len(train_df)*32)\n",
    "path_3 = '.txt'\n",
    "\n",
    "path = path_0 + '/' + path_1 + '/' + str(path_2) + path_3\n",
    "print(path)\n",
    "\n",
    "if os.path.exists(path):\n",
    "    with open(path, \"r\", encoding=\"utf-8\") as f:\n",
    "        lines = f.readlines()\n",
    "    print(lines[0])\n",
    "else:\n",
    "    print(\"File không tồn tại:\", path)"
   ]
  },
  {
   "cell_type": "code",
   "execution_count": 5,
   "id": "634e7b6b",
   "metadata": {},
   "outputs": [
    {
     "data": {
      "text/html": [
       "<div>\n",
       "<style scoped>\n",
       "    .dataframe tbody tr th:only-of-type {\n",
       "        vertical-align: middle;\n",
       "    }\n",
       "\n",
       "    .dataframe tbody tr th {\n",
       "        vertical-align: top;\n",
       "    }\n",
       "\n",
       "    .dataframe thead th {\n",
       "        text-align: right;\n",
       "    }\n",
       "</style>\n",
       "<table border=\"1\" class=\"dataframe\">\n",
       "  <thead>\n",
       "    <tr style=\"text-align: right;\">\n",
       "      <th></th>\n",
       "      <th>tweet_id</th>\n",
       "      <th>airline_sentiment</th>\n",
       "      <th>airline_sentiment_confidence</th>\n",
       "      <th>negativereason</th>\n",
       "      <th>negativereason_confidence</th>\n",
       "      <th>airline</th>\n",
       "      <th>airline_sentiment_gold</th>\n",
       "      <th>name</th>\n",
       "      <th>negativereason_gold</th>\n",
       "      <th>retweet_count</th>\n",
       "      <th>text</th>\n",
       "      <th>tweet_coord</th>\n",
       "      <th>tweet_created</th>\n",
       "      <th>tweet_location</th>\n",
       "      <th>user_timezone</th>\n",
       "    </tr>\n",
       "  </thead>\n",
       "  <tbody>\n",
       "    <tr>\n",
       "      <th>10265</th>\n",
       "      <td>569429468781150208</td>\n",
       "      <td>negative</td>\n",
       "      <td>1.000</td>\n",
       "      <td>Customer Service Issue</td>\n",
       "      <td>1.0000</td>\n",
       "      <td>US Airways</td>\n",
       "      <td>NaN</td>\n",
       "      <td>pmj1234</td>\n",
       "      <td>NaN</td>\n",
       "      <td>0</td>\n",
       "      <td>@USAirways on hold for 2 hours now have been c...</td>\n",
       "      <td>NaN</td>\n",
       "      <td>2015-02-22 01:32:19 -0800</td>\n",
       "      <td>NaN</td>\n",
       "      <td>NaN</td>\n",
       "    </tr>\n",
       "    <tr>\n",
       "      <th>10239</th>\n",
       "      <td>569467550100267008</td>\n",
       "      <td>negative</td>\n",
       "      <td>1.000</td>\n",
       "      <td>Flight Booking Problems</td>\n",
       "      <td>0.6540</td>\n",
       "      <td>US Airways</td>\n",
       "      <td>NaN</td>\n",
       "      <td>jednell</td>\n",
       "      <td>NaN</td>\n",
       "      <td>0</td>\n",
       "      <td>@USAirways OK, I guess the weather has been ro...</td>\n",
       "      <td>NaN</td>\n",
       "      <td>2015-02-22 04:03:38 -0800</td>\n",
       "      <td>NaN</td>\n",
       "      <td>NaN</td>\n",
       "    </tr>\n",
       "    <tr>\n",
       "      <th>4333</th>\n",
       "      <td>570304178314190848</td>\n",
       "      <td>negative</td>\n",
       "      <td>1.000</td>\n",
       "      <td>Bad Flight</td>\n",
       "      <td>0.6784</td>\n",
       "      <td>Southwest</td>\n",
       "      <td>NaN</td>\n",
       "      <td>tonybrancato</td>\n",
       "      <td>NaN</td>\n",
       "      <td>0</td>\n",
       "      <td>@SouthwestAir my wife had been in group A in p...</td>\n",
       "      <td>[41.1974934, -73.76920486]</td>\n",
       "      <td>2015-02-24 11:28:06 -0800</td>\n",
       "      <td>Chappaqua NY</td>\n",
       "      <td>Eastern Time (US &amp; Canada)</td>\n",
       "    </tr>\n",
       "    <tr>\n",
       "      <th>12755</th>\n",
       "      <td>570036187815149570</td>\n",
       "      <td>negative</td>\n",
       "      <td>0.657</td>\n",
       "      <td>Bad Flight</td>\n",
       "      <td>0.3548</td>\n",
       "      <td>American</td>\n",
       "      <td>NaN</td>\n",
       "      <td>rkaradi</td>\n",
       "      <td>NaN</td>\n",
       "      <td>0</td>\n",
       "      <td>@AmericanAir ok makes no sense tho Since you'l...</td>\n",
       "      <td>NaN</td>\n",
       "      <td>2015-02-23 17:43:12 -0800</td>\n",
       "      <td>NaN</td>\n",
       "      <td>NaN</td>\n",
       "    </tr>\n",
       "    <tr>\n",
       "      <th>980</th>\n",
       "      <td>569979211722596353</td>\n",
       "      <td>negative</td>\n",
       "      <td>1.000</td>\n",
       "      <td>Can't Tell</td>\n",
       "      <td>0.6804</td>\n",
       "      <td>United</td>\n",
       "      <td>NaN</td>\n",
       "      <td>CoffeeCult448</td>\n",
       "      <td>NaN</td>\n",
       "      <td>0</td>\n",
       "      <td>@united I think DM would be better</td>\n",
       "      <td>NaN</td>\n",
       "      <td>2015-02-23 13:56:48 -0800</td>\n",
       "      <td>Buffalo/Oakland/Savannah/Ire</td>\n",
       "      <td>NaN</td>\n",
       "    </tr>\n",
       "  </tbody>\n",
       "</table>\n",
       "</div>"
      ],
      "text/plain": [
       "                 tweet_id airline_sentiment  airline_sentiment_confidence  \\\n",
       "10265  569429468781150208          negative                         1.000   \n",
       "10239  569467550100267008          negative                         1.000   \n",
       "4333   570304178314190848          negative                         1.000   \n",
       "12755  570036187815149570          negative                         0.657   \n",
       "980    569979211722596353          negative                         1.000   \n",
       "\n",
       "                negativereason  negativereason_confidence     airline  \\\n",
       "10265   Customer Service Issue                     1.0000  US Airways   \n",
       "10239  Flight Booking Problems                     0.6540  US Airways   \n",
       "4333                Bad Flight                     0.6784   Southwest   \n",
       "12755               Bad Flight                     0.3548    American   \n",
       "980                 Can't Tell                     0.6804      United   \n",
       "\n",
       "      airline_sentiment_gold           name negativereason_gold  \\\n",
       "10265                    NaN        pmj1234                 NaN   \n",
       "10239                    NaN        jednell                 NaN   \n",
       "4333                     NaN   tonybrancato                 NaN   \n",
       "12755                    NaN        rkaradi                 NaN   \n",
       "980                      NaN  CoffeeCult448                 NaN   \n",
       "\n",
       "       retweet_count                                               text  \\\n",
       "10265              0  @USAirways on hold for 2 hours now have been c...   \n",
       "10239              0  @USAirways OK, I guess the weather has been ro...   \n",
       "4333               0  @SouthwestAir my wife had been in group A in p...   \n",
       "12755              0  @AmericanAir ok makes no sense tho Since you'l...   \n",
       "980                0                 @united I think DM would be better   \n",
       "\n",
       "                      tweet_coord              tweet_created  \\\n",
       "10265                         NaN  2015-02-22 01:32:19 -0800   \n",
       "10239                         NaN  2015-02-22 04:03:38 -0800   \n",
       "4333   [41.1974934, -73.76920486]  2015-02-24 11:28:06 -0800   \n",
       "12755                         NaN  2015-02-23 17:43:12 -0800   \n",
       "980                           NaN  2015-02-23 13:56:48 -0800   \n",
       "\n",
       "                     tweet_location               user_timezone  \n",
       "10265                           NaN                         NaN  \n",
       "10239                           NaN                         NaN  \n",
       "4333                   Chappaqua NY  Eastern Time (US & Canada)  \n",
       "12755                           NaN                         NaN  \n",
       "980    Buffalo/Oakland/Savannah/Ire                         NaN  "
      ]
     },
     "execution_count": 5,
     "metadata": {},
     "output_type": "execute_result"
    }
   ],
   "source": [
    "df = pd.read_csv('DATA/Tweets.csv')\n",
    "df.sample(5)"
   ]
  },
  {
   "cell_type": "code",
   "execution_count": 6,
   "id": "6fd0715b",
   "metadata": {},
   "outputs": [
    {
     "data": {
      "text/plain": [
       "(airline_sentiment\n",
       " negative    9178\n",
       " neutral     3099\n",
       " positive    2363\n",
       " Name: count, dtype: int64,\n",
       " 14640)"
      ]
     },
     "execution_count": 6,
     "metadata": {},
     "output_type": "execute_result"
    }
   ],
   "source": [
    "df['airline_sentiment'].value_counts(),len(df)"
   ]
  },
  {
   "cell_type": "markdown",
   "id": "ba3016e9",
   "metadata": {},
   "source": [
    "# Xử lý các ký tự trong câu"
   ]
  },
  {
   "cell_type": "code",
   "execution_count": 7,
   "id": "e344217a",
   "metadata": {},
   "outputs": [
    {
     "data": {
      "text/plain": [
       "'Tôi đang học xử_lý ngôn_ngữ tự_nhiên'"
      ]
     },
     "execution_count": 7,
     "metadata": {},
     "output_type": "execute_result"
    }
   ],
   "source": [
    "from pyvi import ViTokenizer, ViPosTagger\n",
    "\n",
    "text = \"Tôi đang học xử lý ngôn ngữ tự nhiên\"\n",
    "ViTokenizer.tokenize(text)"
   ]
  },
  {
   "cell_type": "code",
   "execution_count": 8,
   "id": "fdad78d2",
   "metadata": {},
   "outputs": [],
   "source": [
    "import re\n",
    "import string\n",
    "from pyvi import ViTokenizer\n",
    "\n",
    "# Regex để loại bỏ emoji (các ký tự mặt cười, biểu tượng cảm xúc...)\n",
    "emoji_pattern = re.compile(\"[\" \n",
    "                u\"\\U0001F600-\\U0001F64F\"  # emoticons (mặt cười)\n",
    "                u\"\\U0001F300-\\U0001F5FF\"  # biểu tượng & hình vẽ\n",
    "                u\"\\U0001F680-\\U0001F6FF\"  # phương tiện & bản đồ\n",
    "                u\"\\U0001F1E0-\\U0001F1FF\"  # cờ quốc gia\n",
    "                u\"\\U00002702-\\U000027B0\"\n",
    "                u\"\\U000024C2-\\U0001F251\"\n",
    "                u\"\\U0001f926-\\U0001f937\"\n",
    "                u'\\U00010000-\\U0010ffff'\n",
    "                u\"\\u200d\"\n",
    "                u\"\\u2640-\\u2642\"\n",
    "                u\"\\u2600-\\u2B55\"\n",
    "                u\"\\u23cf\"\n",
    "                u\"\\u23e9\"\n",
    "                u\"\\u231a\"\n",
    "                u\"\\u3030\"\n",
    "                u\"\\ufe0f\"\n",
    "    \"]+\", flags=re.UNICODE)\n",
    "\n",
    "def clean_text(text):\n",
    "    # 1. Chuyển toàn bộ văn bản về chữ thường\n",
    "    text = text.lower()\n",
    "\n",
    "    # 2. Loại bỏ emoji\n",
    "    text = re.sub(emoji_pattern, \" \", text)\n",
    "\n",
    "    # 3. Giảm bớt các ký tự lặp lại liên tiếp (vd: \"đẹpppp\" -> \"đẹp\")\n",
    "    text = re.sub(r'([a-zA-Zàáạảãâầấậẩẫăằắặẳẵèéẹẻẽêềếệểễ'\n",
    "                  r'ìíịỉĩòóọỏõôồốộổỗơờớợởỡùúụủũưừứựửữ'\n",
    "                  r'ỳýỵỷỹđ])\\1+', r'\\1', text)\n",
    "\n",
    "    # 4. Chuẩn hóa khoảng trắng quanh dấu câu\n",
    "    text = re.sub(r\"(\\w)\\s*([\" + string.punctuation + \"])\\s*(\\w)\", r\"\\1 \\2 \\3\", text)\n",
    "    text = re.sub(r\"(\\w)\\s*([\" + string.punctuation + \"])\", r\"\\1 \\2\", text)\n",
    "\n",
    "    # 5. Rút gọn các dấu câu lặp (vd: \"!!!\" -> \"!\")\n",
    "    text = re.sub(f\"([{string.punctuation}])([{string.punctuation}])+\", r\"\\1\", text)\n",
    "\n",
    "    # 6. Xóa dấu câu ở đầu và cuối chuỗi\n",
    "    text = text.strip()\n",
    "    while text.endswith(tuple(string.punctuation + string.whitespace)):\n",
    "        text = text[:-1]\n",
    "    while text.startswith(tuple(string.punctuation + string.whitespace)):\n",
    "        text = text[1:]\n",
    "\n",
    "    # 7. Loại bỏ toàn bộ dấu câu còn sót lại\n",
    "    text = text.translate(str.maketrans('', '', string.punctuation))\n",
    "\n",
    "    # 8. Chuẩn hóa nhiều khoảng trắng liên tiếp thành 1 khoảng trắng\n",
    "    text = re.sub(r\"\\s+\", \" \", text)\n",
    "\n",
    "    # 9. Tách từ bằng Pyvi (ghép từ ghép như \"xử lý\" -> \"xử_lý\")\n",
    "    text = ViTokenizer.tokenize(text)\n",
    "\n",
    "    return text\n",
    "\n"
   ]
  },
  {
   "cell_type": "code",
   "execution_count": 9,
   "id": "596b830b",
   "metadata": {},
   "outputs": [
    {
     "name": "stdout",
     "output_type": "stream",
     "text": [
      "ối dồi ôi trình là gìi rồi trình ai chấm\n"
     ]
    }
   ],
   "source": [
    "sample = \"Ối dồi ôiiiiii !!!!!!! Trình là gìiiiiiiiiiii ???  Rồi trình ai chấmmmmm\"\n",
    "print(clean_text(sample))"
   ]
  },
  {
   "cell_type": "code",
   "execution_count": 10,
   "id": "bdeab69c",
   "metadata": {},
   "outputs": [
    {
     "name": "stdout",
     "output_type": "stream",
     "text": [
      "                                                    text  label\n",
      "21414  tuần trước ở trường mình có tổ_chức về y_tế ở ...      1\n",
      "12934  đồ ăn_không ngon đậu chiên quá mềm mà mình hay...      0\n",
      "10776  mình mới đi du_lịch ở đây với ông_xã về phải n...      1\n",
      "19589  tình_cờ tìm đuợc quán trên g thấy mọi ng cmt k...      0\n",
      "15641  món ăn khá tươi tuy_nhiên mình đến ngoài mực r...      0\n",
      "                                                   text  label\n",
      "8467  hôm bữa mồng 3 tết sumo bq khai_trương lại gọi...      1\n",
      "5106         10h rồi mà khách vẫn còn ưu_ái d thanks_al      1\n",
      "5421  cửa_hàng này nghe nhiều người bảo ăn ngon chất...      1\n",
      "490   quán cô nương này đã có lâu rồi từ cái hồi mìn...      0\n",
      "3064  trước đây phở vina là 1 lựa_chọn yêu thích của...      0\n",
      "                                                   text  label\n",
      "6380  đây là 1 trong những quán bún hến ngon nhất mì...      1\n",
      "629   mấy coment trên không biết là của thành_viên q...      0\n",
      "5280  ngày nào cũng phải ăn một phần mới ngủ ngon đư...      1\n",
      "998   xem hình trên fody thấy tô 1 vắt nghĩ là ít th...      0\n",
      "5137  món ăn của quán không đặc_sắc lắm bù lại quán ...      1\n"
     ]
    }
   ],
   "source": [
    "import pandas as pd\n",
    "import tensorflow as tf\n",
    "\n",
    "# Hàm tiện ích: đọc dataset TensorFlow -> text và label\n",
    "def dataset_to_texts_labels(dataset):\n",
    "    texts = []\n",
    "    labels = []\n",
    "    for text_batch, label_batch in dataset:\n",
    "        for text, label in zip(text_batch.numpy(), label_batch.numpy()):\n",
    "            texts.append(text.decode(\"utf-8\"))  # chuyển từ bytes -> string\n",
    "            labels.append(label)\n",
    "    return texts, labels\n",
    "\n",
    "# --- Xử lý train ---\n",
    "train_texts, train_labels = dataset_to_texts_labels(train_df)\n",
    "train_texts = [clean_text(t) for t in train_texts]\n",
    "\n",
    "# --- Xử lý val ---\n",
    "val_texts, val_labels = dataset_to_texts_labels(val_df)\n",
    "val_texts = [clean_text(t) for t in val_texts]\n",
    "\n",
    "# --- Xử lý test ---\n",
    "test_texts, test_labels = dataset_to_texts_labels(test_df)\n",
    "test_texts = [clean_text(t) for t in test_texts]\n",
    "\n",
    "train_df_clean = pd.DataFrame({\"text\": train_texts, \"label\": train_labels})\n",
    "val_df_clean   = pd.DataFrame({\"text\": val_texts, \"label\": val_labels})\n",
    "test_df_clean  = pd.DataFrame({\"text\": test_texts, \"label\": test_labels})\n",
    "\n",
    "print(train_df_clean.sample(5))\n",
    "print(val_df_clean.sample(5))\n",
    "print(test_df_clean.sample(5))\n"
   ]
  },
  {
   "cell_type": "markdown",
   "id": "88428332",
   "metadata": {},
   "source": [
    "# Mã hóa sang dạng ma trận"
   ]
  },
  {
   "cell_type": "code",
   "execution_count": 11,
   "id": "2898ee47",
   "metadata": {},
   "outputs": [],
   "source": [
    "from tensorflow.keras.preprocessing.text import Tokenizer  # type: ignore\n",
    "from tensorflow.keras.preprocessing.sequence import pad_sequences  # type: ignore\n",
    "from tensorflow.keras.utils import to_categorical  # type: ignore\n",
    "\n",
    "def encode_texts_with_tokenizer(train_texts, val_texts, test_texts,\n",
    "                                train_labels, val_labels, test_labels,\n",
    "                                num_words=20000, maxlen=100):\n",
    "    \"\"\"\n",
    "    Encode văn bản sang ma trận số bằng TensorFlow Tokenizer.\n",
    "    - num_words: số từ tối đa giữ lại trong vocab (theo tần suất).\n",
    "    - maxlen: độ dài chuỗi cố định sau khi pad/truncate.\n",
    "    \"\"\"\n",
    "    # Khởi tạo Tokenizer\n",
    "    tokenizer = Tokenizer(num_words=num_words, oov_token=\"<UNK>\")\n",
    "    tokenizer.fit_on_texts(train_texts)\n",
    "\n",
    "    # Biến văn bản -> sequence số nguyên\n",
    "    X_train_seq = tokenizer.texts_to_sequences(train_texts)\n",
    "    X_val_seq   = tokenizer.texts_to_sequences(val_texts)\n",
    "    X_test_seq  = tokenizer.texts_to_sequences(test_texts)\n",
    "\n",
    "    # Pad/truncate để có cùng độ dài\n",
    "    X_train = pad_sequences(X_train_seq, maxlen=maxlen, padding='post', truncating='post')\n",
    "    X_val   = pad_sequences(X_val_seq, maxlen=maxlen, padding='post', truncating='post')\n",
    "    X_test  = pad_sequences(X_test_seq, maxlen=maxlen, padding='post', truncating='post')\n",
    "\n",
    "    # Labels chuyển về numpy array (nếu cần)\n",
    "    y_train = tf.convert_to_tensor(train_labels, dtype=tf.int32)\n",
    "    y_val   = tf.convert_to_tensor(val_labels, dtype=tf.int32)\n",
    "    y_test  = tf.convert_to_tensor(test_labels, dtype=tf.int32)\n",
    "\n",
    "    return X_train, y_train, X_val, y_val, X_test, y_test, tokenizer\n"
   ]
  },
  {
   "cell_type": "code",
   "execution_count": 12,
   "id": "3b021810",
   "metadata": {},
   "outputs": [
    {
     "data": {
      "text/plain": [
       "30000"
      ]
     },
     "execution_count": 12,
     "metadata": {},
     "output_type": "execute_result"
    }
   ],
   "source": [
    "len(train_texts)"
   ]
  },
  {
   "cell_type": "code",
   "execution_count": 13,
   "id": "a114947d",
   "metadata": {},
   "outputs": [
    {
     "data": {
      "text/plain": [
       "(<1x31584 sparse matrix of type '<class 'numpy.float64'>'\n",
       " \twith 103 stored elements in Compressed Sparse Row format>,\n",
       " <1x31584 sparse matrix of type '<class 'numpy.float64'>'\n",
       " \twith 100 stored elements in Compressed Sparse Row format>,\n",
       " (30000, 31584),\n",
       " (10000, 31584),\n",
       " (10000, 31584))"
      ]
     },
     "execution_count": 13,
     "metadata": {},
     "output_type": "execute_result"
    }
   ],
   "source": [
    "from sklearn.feature_extraction.text import TfidfVectorizer, CountVectorizer\n",
    "vectorizer = TfidfVectorizer()\n",
    "\n",
    "vectorizer.fit(train_texts)\n",
    "X_train_tfidf = vectorizer.transform(train_texts)\n",
    "X_test_tfidf = vectorizer.transform(test_texts)\n",
    "X_val_tfidf = vectorizer.transform(val_texts)\n",
    "\n",
    "X_train_tfidf[:1], X_test_tfidf[:1],X_train_tfidf.shape, X_test_tfidf.shape, X_val_tfidf.shape\n"
   ]
  },
  {
   "cell_type": "code",
   "execution_count": null,
   "id": "0723af98",
   "metadata": {},
   "outputs": [],
   "source": []
  },
  {
   "cell_type": "code",
   "execution_count": 14,
   "id": "79a898fc",
   "metadata": {},
   "outputs": [
    {
     "data": {
      "text/plain": [
       "1771789"
      ]
     },
     "execution_count": 14,
     "metadata": {},
     "output_type": "execute_result"
    }
   ],
   "source": [
    "X_train_tfidf.getnnz()"
   ]
  },
  {
   "cell_type": "code",
   "execution_count": 15,
   "id": "918925ce",
   "metadata": {},
   "outputs": [
    {
     "name": "stdout",
     "output_type": "stream",
     "text": [
      "       biết      buổi       bãi       bên      bước       bạn    bảo_vệ  \\\n",
      "0  0.059526  0.076413  0.119264  0.186728  0.089402  0.096242  0.102276   \n",
      "\n",
      "   bấn_loạn      cafe   chia_sẻ  ...        xe  yêu_sách        đi      đáng  \\\n",
      "0  0.198559  0.083683  0.136488  ...  0.127326  0.188625  0.121653  0.082421   \n",
      "\n",
      "        đây        đã      được       đến        đồ        ổn  \n",
      "0  0.075935  0.054463  0.128537  0.045259  0.046293  0.071152  \n",
      "\n",
      "[1 rows x 103 columns]\n"
     ]
    }
   ],
   "source": [
    "feature_names = vectorizer.get_feature_names_out()\n",
    "\n",
    "first_row = X_train_tfidf[0].toarray()\n",
    "\n",
    "tfidf_features = pd.DataFrame(first_row, columns=feature_names)\n",
    "\n",
    "non_zero_features = tfidf_features.loc[:, (tfidf_features != 0).any(axis=0)]\n",
    "print(non_zero_features)"
   ]
  },
  {
   "cell_type": "code",
   "execution_count": 16,
   "id": "c558de28",
   "metadata": {},
   "outputs": [
    {
     "name": "stdout",
     "output_type": "stream",
     "text": [
      "X_train shape: (30000, 128)\n",
      "X_val shape: (10000, 128)\n",
      "X_test shape: (10000, 128)\n",
      "Vocab size: 20409\n"
     ]
    }
   ],
   "source": [
    "X_train, y_train, X_val, y_val, X_test, y_test, tokenizer = encode_texts_with_tokenizer(\n",
    "    train_df_clean[\"text\"].tolist(),\n",
    "    val_df_clean[\"text\"].tolist(),\n",
    "    test_df_clean[\"text\"].tolist(),\n",
    "    train_df_clean[\"label\"].tolist(),\n",
    "    val_df_clean[\"label\"].tolist(),\n",
    "    test_df_clean[\"label\"].tolist(),\n",
    "    num_words=20000,\n",
    "    maxlen=128   # tùy bạn chọn\n",
    ")\n",
    "\n",
    "print(\"X_train shape:\", X_train.shape)\n",
    "print(\"X_val shape:\", X_val.shape)\n",
    "print(\"X_test shape:\", X_test.shape)\n",
    "print(\"Vocab size:\", len(tokenizer.word_index))\n"
   ]
  },
  {
   "cell_type": "code",
   "execution_count": 17,
   "id": "c16b94bf",
   "metadata": {},
   "outputs": [
    {
     "data": {
      "text/plain": [
       "2"
      ]
     },
     "execution_count": 17,
     "metadata": {},
     "output_type": "execute_result"
    }
   ],
   "source": [
    "len(train_df.class_names)"
   ]
  },
  {
   "cell_type": "code",
   "execution_count": 18,
   "id": "55d71885",
   "metadata": {},
   "outputs": [
    {
     "name": "stdout",
     "output_type": "stream",
     "text": [
      "(30000, 2) [[0. 1.]\n",
      " [1. 0.]\n",
      " [1. 0.]\n",
      " [1. 0.]\n",
      " [1. 0.]]\n",
      "(10000, 2) [[1. 0.]\n",
      " [1. 0.]\n",
      " [1. 0.]\n",
      " [1. 0.]\n",
      " [1. 0.]]\n",
      "(10000, 2) [[1. 0.]\n",
      " [1. 0.]\n",
      " [1. 0.]\n",
      " [1. 0.]\n",
      " [1. 0.]]\n"
     ]
    }
   ],
   "source": [
    "train_class = to_categorical(train_labels, num_classes=len(train_df.class_names))\n",
    "val_class = to_categorical(val_labels, num_classes=len(train_df.class_names))\n",
    "test_class = to_categorical(test_labels, num_classes=len(train_df.class_names))\n",
    "print(train_class.shape, train_class[:5])\n",
    "print(val_class.shape, val_class[:5])\n",
    "print(test_class.shape, test_class[:5])"
   ]
  },
  {
   "cell_type": "markdown",
   "id": "6de67fdf",
   "metadata": {},
   "source": [
    "# Deep learning"
   ]
  },
  {
   "cell_type": "markdown",
   "id": "e0f8cf83",
   "metadata": {},
   "source": [
    "## Khởi tạo mạng nơ-ron"
   ]
  },
  {
   "cell_type": "code",
   "execution_count": 19,
   "id": "53b2d1ba",
   "metadata": {},
   "outputs": [],
   "source": [
    "from tensorflow.keras.models import Sequential  # type: ignore\n",
    "from tensorflow.keras.layers import Dense, Embedding, LSTM, Bidirectional, GlobalMaxPooling1D, Dropout , BatchNormalization, Flatten # type: ignore\n",
    "from tensorflow.keras.optimizers import Adam, RMSprop, SGD , Adamax, AdamW  # type: ignore\n",
    "from tensorflow.keras import backend as K  # type: ignore\n",
    "from tensorflow.keras.callbacks import EarlyStopping, ModelCheckpoint, ReduceLROnPlateau  # type: ignore"
   ]
  },
  {
   "cell_type": "code",
   "execution_count": 20,
   "id": "dc5acdd9",
   "metadata": {},
   "outputs": [],
   "source": [
    "# K.clear_session()\n",
    "# deep_model = Sequential()\n",
    "\n",
    "# # Tầng Embedding đầu tiên vì ta đang làm việc với dữ liệu văn bản\n",
    "# deep_model.add(Embedding(input_dim=20000, output_dim=128, input_length=128))\n",
    "\n",
    "# # Các tầng LSTM hai chiều để học chuỗi tốt hơn\n",
    "# deep_model.add(Bidirectional(LSTM(64, return_sequences=True)))\n",
    "# deep_model.add(BatchNormalization())\n",
    "# deep_model.add(Dropout(0.3))\n",
    "\n",
    "# deep_model.add(Bidirectional(LSTM(32)))\n",
    "# deep_model.add(BatchNormalization())\n",
    "# deep_model.add(Dropout(0.3))\n",
    "\n",
    "# # Các tầng Dense cho phân loại\n",
    "# deep_model.add(Dense(128, activation='relu'))\n",
    "# deep_model.add(BatchNormalization())\n",
    "# deep_model.add(Dropout(0.3))\n",
    "\n",
    "# deep_model.add(Dense(64, activation='relu'))\n",
    "# deep_model.add(BatchNormalization())\n",
    "# deep_model.add(Dropout(0.3))\n",
    "\n",
    "# deep_model.add(Dense(1, activation='sigmoid'))\n",
    "\n",
    "# deep_model.compile(optimizer=Adamax(learning_rate=1e-3),\n",
    "#               loss='binary_crossentropy',\n",
    "#               metrics=['accuracy'])\n",
    "\n",
    "# deep_model.summary()"
   ]
  },
  {
   "cell_type": "code",
   "execution_count": 21,
   "id": "53d3d02a",
   "metadata": {},
   "outputs": [
    {
     "data": {
      "text/html": [
       "<pre style=\"white-space:pre;overflow-x:auto;line-height:normal;font-family:Menlo,'DejaVu Sans Mono',consolas,'Courier New',monospace\"><span style=\"font-weight: bold\">Model: \"sequential\"</span>\n",
       "</pre>\n"
      ],
      "text/plain": [
       "\u001b[1mModel: \"sequential\"\u001b[0m\n"
      ]
     },
     "metadata": {},
     "output_type": "display_data"
    },
    {
     "data": {
      "text/html": [
       "<pre style=\"white-space:pre;overflow-x:auto;line-height:normal;font-family:Menlo,'DejaVu Sans Mono',consolas,'Courier New',monospace\">┏━━━━━━━━━━━━━━━━━━━━━━━━━━━━━━━━━┳━━━━━━━━━━━━━━━━━━━━━━━━┳━━━━━━━━━━━━━━━┓\n",
       "┃<span style=\"font-weight: bold\"> Layer (type)                    </span>┃<span style=\"font-weight: bold\"> Output Shape           </span>┃<span style=\"font-weight: bold\">       Param # </span>┃\n",
       "┡━━━━━━━━━━━━━━━━━━━━━━━━━━━━━━━━━╇━━━━━━━━━━━━━━━━━━━━━━━━╇━━━━━━━━━━━━━━━┩\n",
       "│ dense (<span style=\"color: #0087ff; text-decoration-color: #0087ff\">Dense</span>)                   │ (<span style=\"color: #00d7ff; text-decoration-color: #00d7ff\">None</span>, <span style=\"color: #00af00; text-decoration-color: #00af00\">512</span>)            │    <span style=\"color: #00af00; text-decoration-color: #00af00\">16,171,520</span> │\n",
       "├─────────────────────────────────┼────────────────────────┼───────────────┤\n",
       "│ batch_normalization             │ (<span style=\"color: #00d7ff; text-decoration-color: #00d7ff\">None</span>, <span style=\"color: #00af00; text-decoration-color: #00af00\">512</span>)            │         <span style=\"color: #00af00; text-decoration-color: #00af00\">2,048</span> │\n",
       "│ (<span style=\"color: #0087ff; text-decoration-color: #0087ff\">BatchNormalization</span>)            │                        │               │\n",
       "├─────────────────────────────────┼────────────────────────┼───────────────┤\n",
       "│ dropout (<span style=\"color: #0087ff; text-decoration-color: #0087ff\">Dropout</span>)               │ (<span style=\"color: #00d7ff; text-decoration-color: #00d7ff\">None</span>, <span style=\"color: #00af00; text-decoration-color: #00af00\">512</span>)            │             <span style=\"color: #00af00; text-decoration-color: #00af00\">0</span> │\n",
       "├─────────────────────────────────┼────────────────────────┼───────────────┤\n",
       "│ dense_1 (<span style=\"color: #0087ff; text-decoration-color: #0087ff\">Dense</span>)                 │ (<span style=\"color: #00d7ff; text-decoration-color: #00d7ff\">None</span>, <span style=\"color: #00af00; text-decoration-color: #00af00\">256</span>)            │       <span style=\"color: #00af00; text-decoration-color: #00af00\">131,328</span> │\n",
       "├─────────────────────────────────┼────────────────────────┼───────────────┤\n",
       "│ batch_normalization_1           │ (<span style=\"color: #00d7ff; text-decoration-color: #00d7ff\">None</span>, <span style=\"color: #00af00; text-decoration-color: #00af00\">256</span>)            │         <span style=\"color: #00af00; text-decoration-color: #00af00\">1,024</span> │\n",
       "│ (<span style=\"color: #0087ff; text-decoration-color: #0087ff\">BatchNormalization</span>)            │                        │               │\n",
       "├─────────────────────────────────┼────────────────────────┼───────────────┤\n",
       "│ dropout_1 (<span style=\"color: #0087ff; text-decoration-color: #0087ff\">Dropout</span>)             │ (<span style=\"color: #00d7ff; text-decoration-color: #00d7ff\">None</span>, <span style=\"color: #00af00; text-decoration-color: #00af00\">256</span>)            │             <span style=\"color: #00af00; text-decoration-color: #00af00\">0</span> │\n",
       "├─────────────────────────────────┼────────────────────────┼───────────────┤\n",
       "│ dense_2 (<span style=\"color: #0087ff; text-decoration-color: #0087ff\">Dense</span>)                 │ (<span style=\"color: #00d7ff; text-decoration-color: #00d7ff\">None</span>, <span style=\"color: #00af00; text-decoration-color: #00af00\">128</span>)            │        <span style=\"color: #00af00; text-decoration-color: #00af00\">32,896</span> │\n",
       "├─────────────────────────────────┼────────────────────────┼───────────────┤\n",
       "│ batch_normalization_2           │ (<span style=\"color: #00d7ff; text-decoration-color: #00d7ff\">None</span>, <span style=\"color: #00af00; text-decoration-color: #00af00\">128</span>)            │           <span style=\"color: #00af00; text-decoration-color: #00af00\">512</span> │\n",
       "│ (<span style=\"color: #0087ff; text-decoration-color: #0087ff\">BatchNormalization</span>)            │                        │               │\n",
       "├─────────────────────────────────┼────────────────────────┼───────────────┤\n",
       "│ dropout_2 (<span style=\"color: #0087ff; text-decoration-color: #0087ff\">Dropout</span>)             │ (<span style=\"color: #00d7ff; text-decoration-color: #00d7ff\">None</span>, <span style=\"color: #00af00; text-decoration-color: #00af00\">128</span>)            │             <span style=\"color: #00af00; text-decoration-color: #00af00\">0</span> │\n",
       "├─────────────────────────────────┼────────────────────────┼───────────────┤\n",
       "│ dense_3 (<span style=\"color: #0087ff; text-decoration-color: #0087ff\">Dense</span>)                 │ (<span style=\"color: #00d7ff; text-decoration-color: #00d7ff\">None</span>, <span style=\"color: #00af00; text-decoration-color: #00af00\">64</span>)             │         <span style=\"color: #00af00; text-decoration-color: #00af00\">8,256</span> │\n",
       "├─────────────────────────────────┼────────────────────────┼───────────────┤\n",
       "│ batch_normalization_3           │ (<span style=\"color: #00d7ff; text-decoration-color: #00d7ff\">None</span>, <span style=\"color: #00af00; text-decoration-color: #00af00\">64</span>)             │           <span style=\"color: #00af00; text-decoration-color: #00af00\">256</span> │\n",
       "│ (<span style=\"color: #0087ff; text-decoration-color: #0087ff\">BatchNormalization</span>)            │                        │               │\n",
       "├─────────────────────────────────┼────────────────────────┼───────────────┤\n",
       "│ dropout_3 (<span style=\"color: #0087ff; text-decoration-color: #0087ff\">Dropout</span>)             │ (<span style=\"color: #00d7ff; text-decoration-color: #00d7ff\">None</span>, <span style=\"color: #00af00; text-decoration-color: #00af00\">64</span>)             │             <span style=\"color: #00af00; text-decoration-color: #00af00\">0</span> │\n",
       "├─────────────────────────────────┼────────────────────────┼───────────────┤\n",
       "│ dense_4 (<span style=\"color: #0087ff; text-decoration-color: #0087ff\">Dense</span>)                 │ (<span style=\"color: #00d7ff; text-decoration-color: #00d7ff\">None</span>, <span style=\"color: #00af00; text-decoration-color: #00af00\">1</span>)              │            <span style=\"color: #00af00; text-decoration-color: #00af00\">65</span> │\n",
       "└─────────────────────────────────┴────────────────────────┴───────────────┘\n",
       "</pre>\n"
      ],
      "text/plain": [
       "┏━━━━━━━━━━━━━━━━━━━━━━━━━━━━━━━━━┳━━━━━━━━━━━━━━━━━━━━━━━━┳━━━━━━━━━━━━━━━┓\n",
       "┃\u001b[1m \u001b[0m\u001b[1mLayer (type)                   \u001b[0m\u001b[1m \u001b[0m┃\u001b[1m \u001b[0m\u001b[1mOutput Shape          \u001b[0m\u001b[1m \u001b[0m┃\u001b[1m \u001b[0m\u001b[1m      Param #\u001b[0m\u001b[1m \u001b[0m┃\n",
       "┡━━━━━━━━━━━━━━━━━━━━━━━━━━━━━━━━━╇━━━━━━━━━━━━━━━━━━━━━━━━╇━━━━━━━━━━━━━━━┩\n",
       "│ dense (\u001b[38;5;33mDense\u001b[0m)                   │ (\u001b[38;5;45mNone\u001b[0m, \u001b[38;5;34m512\u001b[0m)            │    \u001b[38;5;34m16,171,520\u001b[0m │\n",
       "├─────────────────────────────────┼────────────────────────┼───────────────┤\n",
       "│ batch_normalization             │ (\u001b[38;5;45mNone\u001b[0m, \u001b[38;5;34m512\u001b[0m)            │         \u001b[38;5;34m2,048\u001b[0m │\n",
       "│ (\u001b[38;5;33mBatchNormalization\u001b[0m)            │                        │               │\n",
       "├─────────────────────────────────┼────────────────────────┼───────────────┤\n",
       "│ dropout (\u001b[38;5;33mDropout\u001b[0m)               │ (\u001b[38;5;45mNone\u001b[0m, \u001b[38;5;34m512\u001b[0m)            │             \u001b[38;5;34m0\u001b[0m │\n",
       "├─────────────────────────────────┼────────────────────────┼───────────────┤\n",
       "│ dense_1 (\u001b[38;5;33mDense\u001b[0m)                 │ (\u001b[38;5;45mNone\u001b[0m, \u001b[38;5;34m256\u001b[0m)            │       \u001b[38;5;34m131,328\u001b[0m │\n",
       "├─────────────────────────────────┼────────────────────────┼───────────────┤\n",
       "│ batch_normalization_1           │ (\u001b[38;5;45mNone\u001b[0m, \u001b[38;5;34m256\u001b[0m)            │         \u001b[38;5;34m1,024\u001b[0m │\n",
       "│ (\u001b[38;5;33mBatchNormalization\u001b[0m)            │                        │               │\n",
       "├─────────────────────────────────┼────────────────────────┼───────────────┤\n",
       "│ dropout_1 (\u001b[38;5;33mDropout\u001b[0m)             │ (\u001b[38;5;45mNone\u001b[0m, \u001b[38;5;34m256\u001b[0m)            │             \u001b[38;5;34m0\u001b[0m │\n",
       "├─────────────────────────────────┼────────────────────────┼───────────────┤\n",
       "│ dense_2 (\u001b[38;5;33mDense\u001b[0m)                 │ (\u001b[38;5;45mNone\u001b[0m, \u001b[38;5;34m128\u001b[0m)            │        \u001b[38;5;34m32,896\u001b[0m │\n",
       "├─────────────────────────────────┼────────────────────────┼───────────────┤\n",
       "│ batch_normalization_2           │ (\u001b[38;5;45mNone\u001b[0m, \u001b[38;5;34m128\u001b[0m)            │           \u001b[38;5;34m512\u001b[0m │\n",
       "│ (\u001b[38;5;33mBatchNormalization\u001b[0m)            │                        │               │\n",
       "├─────────────────────────────────┼────────────────────────┼───────────────┤\n",
       "│ dropout_2 (\u001b[38;5;33mDropout\u001b[0m)             │ (\u001b[38;5;45mNone\u001b[0m, \u001b[38;5;34m128\u001b[0m)            │             \u001b[38;5;34m0\u001b[0m │\n",
       "├─────────────────────────────────┼────────────────────────┼───────────────┤\n",
       "│ dense_3 (\u001b[38;5;33mDense\u001b[0m)                 │ (\u001b[38;5;45mNone\u001b[0m, \u001b[38;5;34m64\u001b[0m)             │         \u001b[38;5;34m8,256\u001b[0m │\n",
       "├─────────────────────────────────┼────────────────────────┼───────────────┤\n",
       "│ batch_normalization_3           │ (\u001b[38;5;45mNone\u001b[0m, \u001b[38;5;34m64\u001b[0m)             │           \u001b[38;5;34m256\u001b[0m │\n",
       "│ (\u001b[38;5;33mBatchNormalization\u001b[0m)            │                        │               │\n",
       "├─────────────────────────────────┼────────────────────────┼───────────────┤\n",
       "│ dropout_3 (\u001b[38;5;33mDropout\u001b[0m)             │ (\u001b[38;5;45mNone\u001b[0m, \u001b[38;5;34m64\u001b[0m)             │             \u001b[38;5;34m0\u001b[0m │\n",
       "├─────────────────────────────────┼────────────────────────┼───────────────┤\n",
       "│ dense_4 (\u001b[38;5;33mDense\u001b[0m)                 │ (\u001b[38;5;45mNone\u001b[0m, \u001b[38;5;34m1\u001b[0m)              │            \u001b[38;5;34m65\u001b[0m │\n",
       "└─────────────────────────────────┴────────────────────────┴───────────────┘\n"
      ]
     },
     "metadata": {},
     "output_type": "display_data"
    },
    {
     "data": {
      "text/html": [
       "<pre style=\"white-space:pre;overflow-x:auto;line-height:normal;font-family:Menlo,'DejaVu Sans Mono',consolas,'Courier New',monospace\"><span style=\"font-weight: bold\"> Total params: </span><span style=\"color: #00af00; text-decoration-color: #00af00\">16,347,905</span> (62.36 MB)\n",
       "</pre>\n"
      ],
      "text/plain": [
       "\u001b[1m Total params: \u001b[0m\u001b[38;5;34m16,347,905\u001b[0m (62.36 MB)\n"
      ]
     },
     "metadata": {},
     "output_type": "display_data"
    },
    {
     "data": {
      "text/html": [
       "<pre style=\"white-space:pre;overflow-x:auto;line-height:normal;font-family:Menlo,'DejaVu Sans Mono',consolas,'Courier New',monospace\"><span style=\"font-weight: bold\"> Trainable params: </span><span style=\"color: #00af00; text-decoration-color: #00af00\">16,345,985</span> (62.35 MB)\n",
       "</pre>\n"
      ],
      "text/plain": [
       "\u001b[1m Trainable params: \u001b[0m\u001b[38;5;34m16,345,985\u001b[0m (62.35 MB)\n"
      ]
     },
     "metadata": {},
     "output_type": "display_data"
    },
    {
     "data": {
      "text/html": [
       "<pre style=\"white-space:pre;overflow-x:auto;line-height:normal;font-family:Menlo,'DejaVu Sans Mono',consolas,'Courier New',monospace\"><span style=\"font-weight: bold\"> Non-trainable params: </span><span style=\"color: #00af00; text-decoration-color: #00af00\">1,920</span> (7.50 KB)\n",
       "</pre>\n"
      ],
      "text/plain": [
       "\u001b[1m Non-trainable params: \u001b[0m\u001b[38;5;34m1,920\u001b[0m (7.50 KB)\n"
      ]
     },
     "metadata": {},
     "output_type": "display_data"
    }
   ],
   "source": [
    "from tensorflow.keras.regularizers import l2  # type: ignore\n",
    "deep_model = Sequential()\n",
    "\n",
    "deep_model.add(Dense(512, activation='relu', input_shape=(X_train_tfidf.shape[1],)))\n",
    "deep_model.add(BatchNormalization())\n",
    "deep_model.add(Dropout(0.3))\n",
    "\n",
    "deep_model.add(Dense(256, activation='relu', kernel_regularizer=l2(0.01)))\n",
    "deep_model.add(BatchNormalization())\n",
    "deep_model.add(Dropout(0.3))\n",
    "\n",
    "deep_model.add(Dense(128, activation='relu', kernel_regularizer=l2(0.01)))\n",
    "deep_model.add(BatchNormalization())\n",
    "deep_model.add(Dropout(0.3))\n",
    "\n",
    "deep_model.add(Dense(64, activation='relu', kernel_regularizer=l2(0.01)))\n",
    "deep_model.add(BatchNormalization())\n",
    "deep_model.add(Dropout(0.3))\n",
    "\n",
    "deep_model.add(Dense(1, activation='sigmoid'))\n",
    "\n",
    "deep_model.compile(optimizer=Adamax(learning_rate=1e-2,\n",
    "                                   beta_1=0.9, # có tác dụng tăng tốc độ hội tụ\n",
    "                                   beta_2=0.999, # có tác dụng cải thiện độ chính xác\n",
    "                                   epsilon=1e-07), # có tác dụng ổn định hóa\n",
    "              loss='binary_crossentropy',\n",
    "              metrics=['accuracy'])\n",
    "\n",
    "deep_model.summary()"
   ]
  },
  {
   "cell_type": "markdown",
   "id": "2fac7a8e",
   "metadata": {},
   "source": [
    "## huấn luyện model"
   ]
  },
  {
   "cell_type": "code",
   "execution_count": 22,
   "id": "59ee2c7c",
   "metadata": {},
   "outputs": [],
   "source": [
    "train_class = train_labels\n",
    "val_class = val_labels\n",
    "test_class = test_labels\n",
    "\n",
    "train_class = tf.convert_to_tensor(train_class, dtype=tf.float32)\n",
    "val_class = tf.convert_to_tensor(val_class, dtype=tf.float32)\n",
    "test_class = tf.convert_to_tensor(test_class, dtype=tf.float32)"
   ]
  },
  {
   "cell_type": "code",
   "execution_count": 23,
   "id": "ba22d8ef",
   "metadata": {},
   "outputs": [
    {
     "name": "stdout",
     "output_type": "stream",
     "text": [
      "Epoch 1/20\n",
      "\u001b[1m462/468\u001b[0m \u001b[32m━━━━━━━━━━━━━━━━━━━\u001b[0m\u001b[37m━\u001b[0m \u001b[1m0s\u001b[0m 75ms/step - accuracy: 0.8184 - loss: 2.4620\n",
      "Epoch 1: val_loss improved from inf to 0.49431, saving model to best_model.h5\n"
     ]
    },
    {
     "name": "stderr",
     "output_type": "stream",
     "text": [
      "WARNING:absl:You are saving your model as an HDF5 file via `model.save()` or `keras.saving.save_model(model)`. This file format is considered legacy. We recommend using instead the native Keras format, e.g. `model.save('my_model.keras')` or `keras.saving.save_model(model, 'my_model.keras')`. \n"
     ]
    },
    {
     "name": "stdout",
     "output_type": "stream",
     "text": [
      "\u001b[1m468/468\u001b[0m \u001b[32m━━━━━━━━━━━━━━━━━━━━\u001b[0m\u001b[37m\u001b[0m \u001b[1m40s\u001b[0m 80ms/step - accuracy: 0.8188 - loss: 2.4454 - val_accuracy: 0.8536 - val_loss: 0.4943 - learning_rate: 0.0100\n",
      "Epoch 2/20\n",
      "\u001b[1m462/468\u001b[0m \u001b[32m━━━━━━━━━━━━━━━━━━━\u001b[0m\u001b[37m━\u001b[0m \u001b[1m0s\u001b[0m 76ms/step - accuracy: 0.9084 - loss: 0.3246\n",
      "Epoch 2: val_loss improved from 0.49431 to 0.43497, saving model to best_model.h5\n"
     ]
    },
    {
     "name": "stderr",
     "output_type": "stream",
     "text": [
      "WARNING:absl:You are saving your model as an HDF5 file via `model.save()` or `keras.saving.save_model(model)`. This file format is considered legacy. We recommend using instead the native Keras format, e.g. `model.save('my_model.keras')` or `keras.saving.save_model(model, 'my_model.keras')`. \n"
     ]
    },
    {
     "name": "stdout",
     "output_type": "stream",
     "text": [
      "\u001b[1m468/468\u001b[0m \u001b[32m━━━━━━━━━━━━━━━━━━━━\u001b[0m\u001b[37m\u001b[0m \u001b[1m38s\u001b[0m 80ms/step - accuracy: 0.9083 - loss: 0.3248 - val_accuracy: 0.8718 - val_loss: 0.4350 - learning_rate: 0.0100\n",
      "Epoch 3/20\n",
      "\u001b[1m462/468\u001b[0m \u001b[32m━━━━━━━━━━━━━━━━━━━\u001b[0m\u001b[37m━\u001b[0m \u001b[1m0s\u001b[0m 77ms/step - accuracy: 0.9267 - loss: 0.3013\n",
      "Epoch 3: val_loss improved from 0.43497 to 0.42441, saving model to best_model.h5\n"
     ]
    },
    {
     "name": "stderr",
     "output_type": "stream",
     "text": [
      "WARNING:absl:You are saving your model as an HDF5 file via `model.save()` or `keras.saving.save_model(model)`. This file format is considered legacy. We recommend using instead the native Keras format, e.g. `model.save('my_model.keras')` or `keras.saving.save_model(model, 'my_model.keras')`. \n"
     ]
    },
    {
     "name": "stdout",
     "output_type": "stream",
     "text": [
      "\u001b[1m468/468\u001b[0m \u001b[32m━━━━━━━━━━━━━━━━━━━━\u001b[0m\u001b[37m\u001b[0m \u001b[1m38s\u001b[0m 82ms/step - accuracy: 0.9266 - loss: 0.3014 - val_accuracy: 0.8636 - val_loss: 0.4244 - learning_rate: 0.0100\n",
      "Epoch 4/20\n",
      "\u001b[1m462/468\u001b[0m \u001b[32m━━━━━━━━━━━━━━━━━━━\u001b[0m\u001b[37m━\u001b[0m \u001b[1m0s\u001b[0m 79ms/step - accuracy: 0.9351 - loss: 0.2677\n",
      "Epoch 4: val_loss improved from 0.42441 to 0.41688, saving model to best_model.h5\n"
     ]
    },
    {
     "name": "stderr",
     "output_type": "stream",
     "text": [
      "WARNING:absl:You are saving your model as an HDF5 file via `model.save()` or `keras.saving.save_model(model)`. This file format is considered legacy. We recommend using instead the native Keras format, e.g. `model.save('my_model.keras')` or `keras.saving.save_model(model, 'my_model.keras')`. \n"
     ]
    },
    {
     "name": "stdout",
     "output_type": "stream",
     "text": [
      "\u001b[1m468/468\u001b[0m \u001b[32m━━━━━━━━━━━━━━━━━━━━\u001b[0m\u001b[37m\u001b[0m \u001b[1m39s\u001b[0m 84ms/step - accuracy: 0.9351 - loss: 0.2678 - val_accuracy: 0.8748 - val_loss: 0.4169 - learning_rate: 0.0100\n",
      "Epoch 5/20\n",
      "\u001b[1m462/468\u001b[0m \u001b[32m━━━━━━━━━━━━━━━━━━━\u001b[0m\u001b[37m━\u001b[0m \u001b[1m0s\u001b[0m 78ms/step - accuracy: 0.9513 - loss: 0.2249\n",
      "Epoch 5: val_loss did not improve from 0.41688\n",
      "\u001b[1m468/468\u001b[0m \u001b[32m━━━━━━━━━━━━━━━━━━━━\u001b[0m\u001b[37m\u001b[0m \u001b[1m38s\u001b[0m 82ms/step - accuracy: 0.9513 - loss: 0.2250 - val_accuracy: 0.8629 - val_loss: 0.5633 - learning_rate: 0.0100\n",
      "Epoch 6/20\n",
      "\u001b[1m462/468\u001b[0m \u001b[32m━━━━━━━━━━━━━━━━━━━\u001b[0m\u001b[37m━\u001b[0m \u001b[1m0s\u001b[0m 77ms/step - accuracy: 0.9619 - loss: 0.2130\n",
      "Epoch 6: val_loss did not improve from 0.41688\n",
      "\u001b[1m468/468\u001b[0m \u001b[32m━━━━━━━━━━━━━━━━━━━━\u001b[0m\u001b[37m\u001b[0m \u001b[1m38s\u001b[0m 81ms/step - accuracy: 0.9619 - loss: 0.2129 - val_accuracy: 0.8600 - val_loss: 0.5873 - learning_rate: 0.0100\n",
      "Epoch 7/20\n",
      "\u001b[1m462/468\u001b[0m \u001b[32m━━━━━━━━━━━━━━━━━━━\u001b[0m\u001b[37m━\u001b[0m \u001b[1m0s\u001b[0m 77ms/step - accuracy: 0.9717 - loss: 0.1806\n",
      "Epoch 7: val_loss did not improve from 0.41688\n",
      "\u001b[1m468/468\u001b[0m \u001b[32m━━━━━━━━━━━━━━━━━━━━\u001b[0m\u001b[37m\u001b[0m \u001b[1m38s\u001b[0m 81ms/step - accuracy: 0.9717 - loss: 0.1807 - val_accuracy: 0.8612 - val_loss: 0.4983 - learning_rate: 0.0100\n",
      "Epoch 8/20\n",
      "\u001b[1m462/468\u001b[0m \u001b[32m━━━━━━━━━━━━━━━━━━━\u001b[0m\u001b[37m━\u001b[0m \u001b[1m0s\u001b[0m 77ms/step - accuracy: 0.9765 - loss: 0.1553\n",
      "Epoch 8: val_loss did not improve from 0.41688\n",
      "\u001b[1m468/468\u001b[0m \u001b[32m━━━━━━━━━━━━━━━━━━━━\u001b[0m\u001b[37m\u001b[0m \u001b[1m38s\u001b[0m 81ms/step - accuracy: 0.9764 - loss: 0.1554 - val_accuracy: 0.8553 - val_loss: 0.5387 - learning_rate: 0.0100\n",
      "Epoch 9/20\n",
      "\u001b[1m462/468\u001b[0m \u001b[32m━━━━━━━━━━━━━━━━━━━\u001b[0m\u001b[37m━\u001b[0m \u001b[1m0s\u001b[0m 77ms/step - accuracy: 0.9789 - loss: 0.1410\n",
      "Epoch 9: val_loss did not improve from 0.41688\n",
      "\u001b[1m468/468\u001b[0m \u001b[32m━━━━━━━━━━━━━━━━━━━━\u001b[0m\u001b[37m\u001b[0m \u001b[1m38s\u001b[0m 81ms/step - accuracy: 0.9789 - loss: 0.1410 - val_accuracy: 0.8671 - val_loss: 0.5675 - learning_rate: 0.0100\n",
      "Epoch 10/20\n",
      "\u001b[1m462/468\u001b[0m \u001b[32m━━━━━━━━━━━━━━━━━━━\u001b[0m\u001b[37m━\u001b[0m \u001b[1m0s\u001b[0m 78ms/step - accuracy: 0.9815 - loss: 0.1389\n",
      "Epoch 10: val_loss did not improve from 0.41688\n",
      "\u001b[1m468/468\u001b[0m \u001b[32m━━━━━━━━━━━━━━━━━━━━\u001b[0m\u001b[37m\u001b[0m \u001b[1m38s\u001b[0m 82ms/step - accuracy: 0.9815 - loss: 0.1389 - val_accuracy: 0.8665 - val_loss: 0.5732 - learning_rate: 0.0100\n",
      "Epoch 11/20\n",
      "\u001b[1m462/468\u001b[0m \u001b[32m━━━━━━━━━━━━━━━━━━━\u001b[0m\u001b[37m━\u001b[0m \u001b[1m0s\u001b[0m 78ms/step - accuracy: 0.9840 - loss: 0.1274\n",
      "Epoch 11: val_loss did not improve from 0.41688\n",
      "\u001b[1m468/468\u001b[0m \u001b[32m━━━━━━━━━━━━━━━━━━━━\u001b[0m\u001b[37m\u001b[0m \u001b[1m38s\u001b[0m 81ms/step - accuracy: 0.9840 - loss: 0.1274 - val_accuracy: 0.8634 - val_loss: 0.5404 - learning_rate: 0.0100\n",
      "Epoch 12/20\n",
      "\u001b[1m462/468\u001b[0m \u001b[32m━━━━━━━━━━━━━━━━━━━\u001b[0m\u001b[37m━\u001b[0m \u001b[1m0s\u001b[0m 76ms/step - accuracy: 0.9858 - loss: 0.1141\n",
      "Epoch 12: val_loss did not improve from 0.41688\n",
      "\n",
      "Epoch 12: ReduceLROnPlateau reducing learning rate to 0.0009999999776482583.\n",
      "\u001b[1m468/468\u001b[0m \u001b[32m━━━━━━━━━━━━━━━━━━━━\u001b[0m\u001b[37m\u001b[0m \u001b[1m37s\u001b[0m 79ms/step - accuracy: 0.9858 - loss: 0.1141 - val_accuracy: 0.8642 - val_loss: 0.7098 - learning_rate: 0.0100\n",
      "Epoch 13/20\n",
      "\u001b[1m462/468\u001b[0m \u001b[32m━━━━━━━━━━━━━━━━━━━\u001b[0m\u001b[37m━\u001b[0m \u001b[1m0s\u001b[0m 77ms/step - accuracy: 0.9923 - loss: 0.0867\n",
      "Epoch 13: val_loss did not improve from 0.41688\n",
      "\u001b[1m468/468\u001b[0m \u001b[32m━━━━━━━━━━━━━━━━━━━━\u001b[0m\u001b[37m\u001b[0m \u001b[1m37s\u001b[0m 80ms/step - accuracy: 0.9923 - loss: 0.0865 - val_accuracy: 0.8678 - val_loss: 0.5127 - learning_rate: 1.0000e-03\n",
      "Epoch 14/20\n",
      "\u001b[1m462/468\u001b[0m \u001b[32m━━━━━━━━━━━━━━━━━━━\u001b[0m\u001b[37m━\u001b[0m \u001b[1m0s\u001b[0m 75ms/step - accuracy: 0.9953 - loss: 0.0457\n",
      "Epoch 14: val_loss did not improve from 0.41688\n",
      "\u001b[1m468/468\u001b[0m \u001b[32m━━━━━━━━━━━━━━━━━━━━\u001b[0m\u001b[37m\u001b[0m \u001b[1m37s\u001b[0m 79ms/step - accuracy: 0.9953 - loss: 0.0457 - val_accuracy: 0.8692 - val_loss: 0.5487 - learning_rate: 1.0000e-03\n",
      "Epoch 15/20\n",
      "\u001b[1m462/468\u001b[0m \u001b[32m━━━━━━━━━━━━━━━━━━━\u001b[0m\u001b[37m━\u001b[0m \u001b[1m0s\u001b[0m 75ms/step - accuracy: 0.9970 - loss: 0.0283\n",
      "Epoch 15: val_loss did not improve from 0.41688\n",
      "\u001b[1m468/468\u001b[0m \u001b[32m━━━━━━━━━━━━━━━━━━━━\u001b[0m\u001b[37m\u001b[0m \u001b[1m37s\u001b[0m 78ms/step - accuracy: 0.9970 - loss: 0.0283 - val_accuracy: 0.8717 - val_loss: 0.6474 - learning_rate: 1.0000e-03\n",
      "Epoch 16/20\n",
      "\u001b[1m462/468\u001b[0m \u001b[32m━━━━━━━━━━━━━━━━━━━\u001b[0m\u001b[37m━\u001b[0m \u001b[1m0s\u001b[0m 75ms/step - accuracy: 0.9970 - loss: 0.0235\n",
      "Epoch 16: val_loss did not improve from 0.41688\n",
      "\u001b[1m468/468\u001b[0m \u001b[32m━━━━━━━━━━━━━━━━━━━━\u001b[0m\u001b[37m\u001b[0m \u001b[1m37s\u001b[0m 79ms/step - accuracy: 0.9970 - loss: 0.0235 - val_accuracy: 0.8706 - val_loss: 0.6947 - learning_rate: 1.0000e-03\n",
      "Epoch 17/20\n",
      "\u001b[1m462/468\u001b[0m \u001b[32m━━━━━━━━━━━━━━━━━━━\u001b[0m\u001b[37m━\u001b[0m \u001b[1m0s\u001b[0m 75ms/step - accuracy: 0.9974 - loss: 0.0192\n",
      "Epoch 17: val_loss did not improve from 0.41688\n",
      "\u001b[1m468/468\u001b[0m \u001b[32m━━━━━━━━━━━━━━━━━━━━\u001b[0m\u001b[37m\u001b[0m \u001b[1m37s\u001b[0m 79ms/step - accuracy: 0.9974 - loss: 0.0192 - val_accuracy: 0.8682 - val_loss: 0.6691 - learning_rate: 1.0000e-03\n",
      "Epoch 18/20\n",
      "\u001b[1m462/468\u001b[0m \u001b[32m━━━━━━━━━━━━━━━━━━━\u001b[0m\u001b[37m━\u001b[0m \u001b[1m0s\u001b[0m 76ms/step - accuracy: 0.9978 - loss: 0.0173\n",
      "Epoch 18: val_loss did not improve from 0.41688\n",
      "\u001b[1m468/468\u001b[0m \u001b[32m━━━━━━━━━━━━━━━━━━━━\u001b[0m\u001b[37m\u001b[0m \u001b[1m37s\u001b[0m 79ms/step - accuracy: 0.9978 - loss: 0.0172 - val_accuracy: 0.8713 - val_loss: 0.6683 - learning_rate: 1.0000e-03\n",
      "Epoch 19/20\n",
      "\u001b[1m462/468\u001b[0m \u001b[32m━━━━━━━━━━━━━━━━━━━\u001b[0m\u001b[37m━\u001b[0m \u001b[1m0s\u001b[0m 76ms/step - accuracy: 0.9977 - loss: 0.0171\n",
      "Epoch 19: val_loss did not improve from 0.41688\n",
      "\u001b[1m468/468\u001b[0m \u001b[32m━━━━━━━━━━━━━━━━━━━━\u001b[0m\u001b[37m\u001b[0m \u001b[1m37s\u001b[0m 79ms/step - accuracy: 0.9977 - loss: 0.0171 - val_accuracy: 0.8696 - val_loss: 0.8111 - learning_rate: 1.0000e-03\n",
      "Epoch 20/20\n",
      "\u001b[1m462/468\u001b[0m \u001b[32m━━━━━━━━━━━━━━━━━━━\u001b[0m\u001b[37m━\u001b[0m \u001b[1m0s\u001b[0m 76ms/step - accuracy: 0.9978 - loss: 0.0154\n",
      "Epoch 20: val_loss did not improve from 0.41688\n",
      "\n",
      "Epoch 20: ReduceLROnPlateau reducing learning rate to 9.999999310821295e-05.\n",
      "\u001b[1m468/468\u001b[0m \u001b[32m━━━━━━━━━━━━━━━━━━━━\u001b[0m\u001b[37m\u001b[0m \u001b[1m37s\u001b[0m 79ms/step - accuracy: 0.9978 - loss: 0.0154 - val_accuracy: 0.8675 - val_loss: 0.7914 - learning_rate: 1.0000e-03\n",
      "Restoring model weights from the end of the best epoch: 4.\n"
     ]
    }
   ],
   "source": [
    "\n",
    "stop = EarlyStopping(\n",
    "    monitor='val_loss',\n",
    "    patience=20,\n",
    "    restore_best_weights=True,\n",
    "    mode ='min',\n",
    "    verbose=1\n",
    ")\n",
    "\n",
    "save = ModelCheckpoint(\n",
    "    filepath='best_model.h5',\n",
    "    monitor='val_loss',\n",
    "    save_best_only=True,\n",
    "    mode='min',\n",
    "    verbose=1,\n",
    ")\n",
    "\n",
    "lr = ReduceLROnPlateau(\n",
    "    monitor='val_loss',\n",
    "    factor=0.1,\n",
    "    patience=8,\n",
    "    min_lr=1e-8,\n",
    "    verbose=1\n",
    ")\n",
    "\n",
    "his = deep_model.fit(X_train_tfidf,\n",
    "               train_class,\n",
    "               epochs=20,\n",
    "               validation_data=(X_val_tfidf, val_class),\n",
    "               callbacks=[save, lr, stop],\n",
    "               steps_per_epoch=len(train_df_clean) // 64,\n",
    "               verbose=1,\n",
    "               shuffle=True)"
   ]
  },
  {
   "cell_type": "code",
   "execution_count": 24,
   "id": "be28c244",
   "metadata": {},
   "outputs": [
    {
     "name": "stdout",
     "output_type": "stream",
     "text": [
      "\u001b[1m1/1\u001b[0m \u001b[32m━━━━━━━━━━━━━━━━━━━━\u001b[0m\u001b[37m\u001b[0m \u001b[1m0s\u001b[0m 154ms/step\n",
      "Comment này được phân loại là: Tích cực\n",
      "Độ tin cậy: 63.88%\n"
     ]
    }
   ],
   "source": [
    "text = 'quán này phục vụ nhiệt tình đến mức sợ luôn , khách nói tí thì chửi đánh luôn , sợ quá'\n",
    "def xu_ly(text):\n",
    "    text = clean_text(text)\n",
    "    text = vectorizer.transform([text])\n",
    "    return text\n",
    "\n",
    "text = xu_ly(text)\n",
    "kq = deep_model.predict(text)\n",
    "if kq[0][0] > 0.5:\n",
    "    print('Comment này được phân loại là: Tích cực')\n",
    "    confidence = kq[0][0] * 100\n",
    "else:\n",
    "    print('Comment này được phân loại là: Tiêu cực')\n",
    "    confidence = (1 - kq[0][0]) * 100\n",
    "print(\"Độ tin cậy:\", f\"{confidence:.2f}%\")"
   ]
  },
  {
   "cell_type": "code",
   "execution_count": 25,
   "id": "01cb4b6e",
   "metadata": {},
   "outputs": [
    {
     "data": {
      "text/html": [
       "<div>\n",
       "<style scoped>\n",
       "    .dataframe tbody tr th:only-of-type {\n",
       "        vertical-align: middle;\n",
       "    }\n",
       "\n",
       "    .dataframe tbody tr th {\n",
       "        vertical-align: top;\n",
       "    }\n",
       "\n",
       "    .dataframe thead th {\n",
       "        text-align: right;\n",
       "    }\n",
       "</style>\n",
       "<table border=\"1\" class=\"dataframe\">\n",
       "  <thead>\n",
       "    <tr style=\"text-align: right;\">\n",
       "      <th></th>\n",
       "      <th>accuracy</th>\n",
       "      <th>loss</th>\n",
       "      <th>val_accuracy</th>\n",
       "      <th>val_loss</th>\n",
       "      <th>learning_rate</th>\n",
       "    </tr>\n",
       "  </thead>\n",
       "  <tbody>\n",
       "    <tr>\n",
       "      <th>0</th>\n",
       "      <td>0.849400</td>\n",
       "      <td>1.168344</td>\n",
       "      <td>0.8536</td>\n",
       "      <td>0.494313</td>\n",
       "      <td>0.010</td>\n",
       "    </tr>\n",
       "    <tr>\n",
       "      <th>1</th>\n",
       "      <td>0.903467</td>\n",
       "      <td>0.339796</td>\n",
       "      <td>0.8718</td>\n",
       "      <td>0.434974</td>\n",
       "      <td>0.010</td>\n",
       "    </tr>\n",
       "    <tr>\n",
       "      <th>2</th>\n",
       "      <td>0.920133</td>\n",
       "      <td>0.310331</td>\n",
       "      <td>0.8636</td>\n",
       "      <td>0.424409</td>\n",
       "      <td>0.010</td>\n",
       "    </tr>\n",
       "    <tr>\n",
       "      <th>3</th>\n",
       "      <td>0.933167</td>\n",
       "      <td>0.272033</td>\n",
       "      <td>0.8748</td>\n",
       "      <td>0.416881</td>\n",
       "      <td>0.010</td>\n",
       "    </tr>\n",
       "    <tr>\n",
       "      <th>4</th>\n",
       "      <td>0.948667</td>\n",
       "      <td>0.237353</td>\n",
       "      <td>0.8629</td>\n",
       "      <td>0.563266</td>\n",
       "      <td>0.010</td>\n",
       "    </tr>\n",
       "    <tr>\n",
       "      <th>5</th>\n",
       "      <td>0.961367</td>\n",
       "      <td>0.209643</td>\n",
       "      <td>0.8600</td>\n",
       "      <td>0.587330</td>\n",
       "      <td>0.010</td>\n",
       "    </tr>\n",
       "    <tr>\n",
       "      <th>6</th>\n",
       "      <td>0.969833</td>\n",
       "      <td>0.184304</td>\n",
       "      <td>0.8612</td>\n",
       "      <td>0.498258</td>\n",
       "      <td>0.010</td>\n",
       "    </tr>\n",
       "    <tr>\n",
       "      <th>7</th>\n",
       "      <td>0.975167</td>\n",
       "      <td>0.162634</td>\n",
       "      <td>0.8553</td>\n",
       "      <td>0.538726</td>\n",
       "      <td>0.010</td>\n",
       "    </tr>\n",
       "    <tr>\n",
       "      <th>8</th>\n",
       "      <td>0.979233</td>\n",
       "      <td>0.140633</td>\n",
       "      <td>0.8671</td>\n",
       "      <td>0.567501</td>\n",
       "      <td>0.010</td>\n",
       "    </tr>\n",
       "    <tr>\n",
       "      <th>9</th>\n",
       "      <td>0.981667</td>\n",
       "      <td>0.138563</td>\n",
       "      <td>0.8665</td>\n",
       "      <td>0.573238</td>\n",
       "      <td>0.010</td>\n",
       "    </tr>\n",
       "    <tr>\n",
       "      <th>10</th>\n",
       "      <td>0.984400</td>\n",
       "      <td>0.126829</td>\n",
       "      <td>0.8634</td>\n",
       "      <td>0.540375</td>\n",
       "      <td>0.010</td>\n",
       "    </tr>\n",
       "    <tr>\n",
       "      <th>11</th>\n",
       "      <td>0.985700</td>\n",
       "      <td>0.114751</td>\n",
       "      <td>0.8642</td>\n",
       "      <td>0.709764</td>\n",
       "      <td>0.010</td>\n",
       "    </tr>\n",
       "    <tr>\n",
       "      <th>12</th>\n",
       "      <td>0.992700</td>\n",
       "      <td>0.073126</td>\n",
       "      <td>0.8678</td>\n",
       "      <td>0.512687</td>\n",
       "      <td>0.001</td>\n",
       "    </tr>\n",
       "    <tr>\n",
       "      <th>13</th>\n",
       "      <td>0.995667</td>\n",
       "      <td>0.040478</td>\n",
       "      <td>0.8692</td>\n",
       "      <td>0.548744</td>\n",
       "      <td>0.001</td>\n",
       "    </tr>\n",
       "    <tr>\n",
       "      <th>14</th>\n",
       "      <td>0.996733</td>\n",
       "      <td>0.027692</td>\n",
       "      <td>0.8717</td>\n",
       "      <td>0.647410</td>\n",
       "      <td>0.001</td>\n",
       "    </tr>\n",
       "    <tr>\n",
       "      <th>15</th>\n",
       "      <td>0.996633</td>\n",
       "      <td>0.022668</td>\n",
       "      <td>0.8706</td>\n",
       "      <td>0.694698</td>\n",
       "      <td>0.001</td>\n",
       "    </tr>\n",
       "    <tr>\n",
       "      <th>16</th>\n",
       "      <td>0.997300</td>\n",
       "      <td>0.018965</td>\n",
       "      <td>0.8682</td>\n",
       "      <td>0.669067</td>\n",
       "      <td>0.001</td>\n",
       "    </tr>\n",
       "    <tr>\n",
       "      <th>17</th>\n",
       "      <td>0.997833</td>\n",
       "      <td>0.016618</td>\n",
       "      <td>0.8713</td>\n",
       "      <td>0.668292</td>\n",
       "      <td>0.001</td>\n",
       "    </tr>\n",
       "    <tr>\n",
       "      <th>18</th>\n",
       "      <td>0.997733</td>\n",
       "      <td>0.015806</td>\n",
       "      <td>0.8696</td>\n",
       "      <td>0.811124</td>\n",
       "      <td>0.001</td>\n",
       "    </tr>\n",
       "    <tr>\n",
       "      <th>19</th>\n",
       "      <td>0.998000</td>\n",
       "      <td>0.014704</td>\n",
       "      <td>0.8675</td>\n",
       "      <td>0.791363</td>\n",
       "      <td>0.001</td>\n",
       "    </tr>\n",
       "  </tbody>\n",
       "</table>\n",
       "</div>"
      ],
      "text/plain": [
       "    accuracy      loss  val_accuracy  val_loss  learning_rate\n",
       "0   0.849400  1.168344        0.8536  0.494313          0.010\n",
       "1   0.903467  0.339796        0.8718  0.434974          0.010\n",
       "2   0.920133  0.310331        0.8636  0.424409          0.010\n",
       "3   0.933167  0.272033        0.8748  0.416881          0.010\n",
       "4   0.948667  0.237353        0.8629  0.563266          0.010\n",
       "5   0.961367  0.209643        0.8600  0.587330          0.010\n",
       "6   0.969833  0.184304        0.8612  0.498258          0.010\n",
       "7   0.975167  0.162634        0.8553  0.538726          0.010\n",
       "8   0.979233  0.140633        0.8671  0.567501          0.010\n",
       "9   0.981667  0.138563        0.8665  0.573238          0.010\n",
       "10  0.984400  0.126829        0.8634  0.540375          0.010\n",
       "11  0.985700  0.114751        0.8642  0.709764          0.010\n",
       "12  0.992700  0.073126        0.8678  0.512687          0.001\n",
       "13  0.995667  0.040478        0.8692  0.548744          0.001\n",
       "14  0.996733  0.027692        0.8717  0.647410          0.001\n",
       "15  0.996633  0.022668        0.8706  0.694698          0.001\n",
       "16  0.997300  0.018965        0.8682  0.669067          0.001\n",
       "17  0.997833  0.016618        0.8713  0.668292          0.001\n",
       "18  0.997733  0.015806        0.8696  0.811124          0.001\n",
       "19  0.998000  0.014704        0.8675  0.791363          0.001"
      ]
     },
     "execution_count": 25,
     "metadata": {},
     "output_type": "execute_result"
    }
   ],
   "source": [
    "pd.DataFrame(his.history)"
   ]
  },
  {
   "cell_type": "code",
   "execution_count": 26,
   "id": "4ad6edf0",
   "metadata": {},
   "outputs": [
    {
     "name": "stdout",
     "output_type": "stream",
     "text": [
      "Độ chính xác của mô hình trên tập huấn luyện: 99.80%\n",
      "Độ chính xác của mô hình trên tập kiểm tra val: 86.75%\n"
     ]
    },
    {
     "data": {
      "image/png": "[encoded data removed]",
      "text/plain": [
       "<Figure size 1200x600 with 2 Axes>"
      ]
     },
     "metadata": {},
     "output_type": "display_data"
    }
   ],
   "source": [
    "# Độ chính xác của mô hình\n",
    "print(f\"Độ chính xác của mô hình trên tập huấn luyện: {his.history['accuracy'][-1] * 100:.2f}%\")\n",
    "print(f\"Độ chính xác của mô hình trên tập kiểm tra val: {his.history['val_accuracy'][-1] * 100:.2f}%\")\n",
    "\n",
    "epochs = range(1, len(his.history['accuracy']) + 1)\n",
    "plt.figure(figsize=(12, 6))\n",
    "plt.subplot(1, 2, 1)\n",
    "plt.plot(epochs, his.history['accuracy'], label='Độ chính xác (train)')\n",
    "plt.plot(epochs, his.history['val_accuracy'], label='Độ chính xác (val)')\n",
    "plt.title('Độ chính xác của mô hình')\n",
    "plt.xlabel('Epochs')\n",
    "plt.xticks(epochs)\n",
    "plt.ylabel('Accuracy')\n",
    "plt.legend()\n",
    "plt.subplot(1, 2, 2)\n",
    "plt.plot(epochs, his.history['loss'], label='Mất mát (train)')\n",
    "plt.plot(epochs, his.history['val_loss'], label='Mất mát (val)')    \n",
    "plt.title('Mất mát của mô hình')\n",
    "plt.xlabel('Epochs')\n",
    "plt.xticks(epochs)\n",
    "plt.ylabel('Loss')\n",
    "plt.legend()\n",
    "plt.tight_layout()\n"
   ]
  },
  {
   "cell_type": "code",
   "execution_count": 27,
   "id": "cd48cd4b",
   "metadata": {},
   "outputs": [
    {
     "name": "stderr",
     "output_type": "stream",
     "text": [
      "WARNING:absl:Compiled the loaded model, but the compiled metrics have yet to be built. `model.compile_metrics` will be empty until you train or evaluate the model.\n"
     ]
    },
    {
     "name": "stdout",
     "output_type": "stream",
     "text": [
      "\u001b[1m313/313\u001b[0m \u001b[32m━━━━━━━━━━━━━━━━━━━━\u001b[0m\u001b[37m\u001b[0m \u001b[1m2s\u001b[0m 7ms/step\n",
      "Độ chính xác của model: 87.73%\n"
     ]
    },
    {
     "data": {
      "image/png": "[encoded data removed]",
      "text/plain": [
       "<Figure size 800x600 with 2 Axes>"
      ]
     },
     "metadata": {},
     "output_type": "display_data"
    }
   ],
   "source": [
    "# vẽ ma trận nhầm lẫn\n",
    "from sklearn.metrics import accuracy_score, confusion_matrix\n",
    "from tensorflow.keras.models import load_model  # type: ignore\n",
    "\n",
    "model = load_model('best_model.h5')\n",
    "\n",
    "yred = deep_model.predict(X_test_tfidf)\n",
    "yred = (yred > 0.5).astype(int)\n",
    "\n",
    "# độ chính xác trên tập kiểm tra\n",
    "acc_test = accuracy_score(y_test, yred)\n",
    "print(f\"Độ chính xác của model: {acc_test* 100:.2f}%\")\n",
    "\n",
    "cm = confusion_matrix(y_test, yred)\n",
    "\n",
    "plt.figure(figsize=(8, 6))\n",
    "plt.imshow(cm, interpolation='nearest', cmap=plt.cm.Blues)\n",
    "plt.title('Ma trận nhầm lẫn')\n",
    "plt.colorbar()\n",
    "\n",
    "# Thêm số liệu vào các ô\n",
    "thresh = cm.max() / 2\n",
    "for i, j in np.ndindex(cm.shape):\n",
    "    plt.text(j, i, format(cm[i, j], 'd'),\n",
    "             ha=\"center\", va=\"center\",\n",
    "             color=\"white\" if cm[i, j] > thresh else \"black\")\n",
    "\n",
    "# Chỉ cần định nghĩa labels một lần\n",
    "labels = ['Tiêu cực', 'Tích cực']\n",
    "plt.xticks([0, 1], labels)\n",
    "plt.yticks([0, 1], labels)\n",
    "\n",
    "plt.xlabel('Dự đoán')\n",
    "plt.ylabel('Thực tế')\n",
    "plt.tight_layout()\n",
    "plt.show()"
   ]
  },
  {
   "cell_type": "markdown",
   "id": "adcf8193",
   "metadata": {},
   "source": [
    "# Machine learning"
   ]
  },
  {
   "cell_type": "code",
   "execution_count": 28,
   "id": "455ab6ea",
   "metadata": {},
   "outputs": [
    {
     "name": "stdout",
     "output_type": "stream",
     "text": [
      "Độ chính xác của model trên tập train: 0.9736666666666667\n",
      "Độ chính xác của model trên tập validation: 0.8862\n",
      "Độ chính xác của model trên tập test: 0.8944\n"
     ]
    }
   ],
   "source": [
    "from sklearn.svm import SVC\n",
    "from sklearn.model_selection import GridSearchCV\n",
    "\n",
    "machine_deep = SVC(C=1,\n",
    "                   class_weight= None,\n",
    "                   gamma='scale',\n",
    "                   kernel='rbf'\n",
    "                   )\n",
    "machine_deep.fit(X_train_tfidf, \n",
    "                 train_labels)\n",
    "print('Độ chính xác của model trên tập train:', machine_deep.score(X_train_tfidf, train_labels))\n",
    "print('Độ chính xác của model trên tập validation:', machine_deep.score(X_val_tfidf, val_labels))\n",
    "kq_test = machine_deep.predict(X_test_tfidf)\n",
    "acc_test = accuracy_score(test_labels, kq_test)\n",
    "print('Độ chính xác của model trên tập test:', acc_test)\n"
   ]
  },
  {
   "cell_type": "code",
   "execution_count": 29,
   "id": "e84e9d50",
   "metadata": {},
   "outputs": [
    {
     "name": "stdout",
     "output_type": "stream",
     "text": [
      "Độ chính xác của model trên tập validation: 0.8862\n"
     ]
    }
   ],
   "source": [
    "kq_test = machine_deep.predict(X_val_tfidf)\n",
    "acc_test = accuracy_score(val_labels, kq_test)\n",
    "print('Độ chính xác của model trên tập validation:', acc_test)"
   ]
  },
  {
   "cell_type": "code",
   "execution_count": 30,
   "id": "24b24d78",
   "metadata": {},
   "outputs": [
    {
     "name": "stdout",
     "output_type": "stream",
     "text": [
      "Độ chính xác của model: 88.62%\n"
     ]
    },
    {
     "data": {
      "image/png": "[encoded data removed]",
      "text/plain": [
       "<Figure size 800x600 with 2 Axes>"
      ]
     },
     "metadata": {},
     "output_type": "display_data"
    }
   ],
   "source": [
    "acc_test = accuracy_score(y_test, kq_test)\n",
    "print(f\"Độ chính xác của model: {acc_test* 100:.2f}%\")\n",
    "\n",
    "cm = confusion_matrix(y_test, kq_test)\n",
    "\n",
    "plt.figure(figsize=(8, 6))\n",
    "plt.imshow(cm, interpolation='nearest', cmap=plt.cm.Blues)\n",
    "plt.title('Ma trận nhầm lẫn')\n",
    "plt.colorbar()\n",
    "\n",
    "# Thêm số liệu vào các ô\n",
    "thresh = cm.max() / 2\n",
    "for i, j in np.ndindex(cm.shape):\n",
    "    plt.text(j, i, format(cm[i, j], 'd'),\n",
    "             ha=\"center\", va=\"center\",\n",
    "             color=\"white\" if cm[i, j] > thresh else \"black\")\n",
    "\n",
    "# Chỉ cần định nghĩa labels một lần\n",
    "labels = ['Tiêu cực', 'Tích cực']\n",
    "plt.xticks([0, 1], labels)\n",
    "plt.yticks([0, 1], labels)\n",
    "\n",
    "plt.xlabel('Dự đoán')\n",
    "plt.ylabel('Thực tế')\n",
    "plt.tight_layout()\n",
    "plt.show()"
   ]
  },
  {
   "cell_type": "code",
   "execution_count": 31,
   "id": "8565ad5c",
   "metadata": {},
   "outputs": [
    {
     "data": {
      "text/plain": [
       "['MODEL/machine_deep.sav']"
      ]
     },
     "execution_count": 31,
     "metadata": {},
     "output_type": "execute_result"
    }
   ],
   "source": [
    "import joblib\n",
    "\n",
    "joblib.dump(machine_deep, 'MODEL/machine_deep.sav')"
   ]
  },
  {
   "cell_type": "code",
   "execution_count": 32,
   "id": "83df167f",
   "metadata": {},
   "outputs": [
    {
     "name": "stderr",
     "output_type": "stream",
     "text": [
      "WARNING:absl:Compiled the loaded model, but the compiled metrics have yet to be built. `model.compile_metrics` will be empty until you train or evaluate the model.\n"
     ]
    },
    {
     "name": "stdout",
     "output_type": "stream",
     "text": [
      "Comment ban đầu: quán này phục vụ nhiệt tình đến mức sợ luôn , khách nói tí thì chửi đánh luôn , sợ \n",
      "Comment sau khi xử lý: quán này phục_vụ nhiệt_tình đến mức sợ luôn khách nói tí thì chửi đánh luôn sợ\n",
      "Comment sau khi chuyển đổi thành ma trận TF-IDF: [[0. 0. 0. ... 0. 0. 0.]]\n",
      "\u001b[1m1/1\u001b[0m \u001b[32m━━━━━━━━━━━━━━━━━━━━\u001b[0m\u001b[37m\u001b[0m \u001b[1m0s\u001b[0m 148ms/step\n",
      "Comment này được phân loại là: Tiêu cực\n",
      "Độ tin cậy: 77.81%\n",
      "Comment này được phân loại là: Tích cực\n"
     ]
    }
   ],
   "source": [
    "from tensorflow.keras.models import load_model  # type: ignore\n",
    "import joblib\n",
    "\n",
    "model1 = load_model('MODEL/deep(Nhận diện tốt nhất)IF-IDF.h5')\n",
    "model2 = joblib.load('MODEL/machine_deep.sav')\n",
    "a = input('Nhập comment của bạn: ')\n",
    "print('Comment ban đầu:',a)\n",
    "a = clean_text(a)\n",
    "print('Comment sau khi xử lý:',a)\n",
    "\n",
    "# a = tokenizer.texts_to_sequences([a])\n",
    "# print('Comment sau khi chuyển đổi thành chuỗi:', a)\n",
    "# # Pad sequence to match training data length\n",
    "# a = pad_sequences(a, maxlen=100, padding='post', truncating='post')\n",
    "# print('Comment sau khi padding:', a)\n",
    "\n",
    "a = vectorizer.transform([a])\n",
    "print('Comment sau khi chuyển đổi thành ma trận TF-IDF:', a.toarray())\n",
    "\n",
    "pred = model1.predict(a)\n",
    "if pred[0][0] > 0.5:\n",
    "    print('Comment này được phân loại là: Tích cực')\n",
    "    confidence = pred[0][0] * 100\n",
    "else:\n",
    "    print('Comment này được phân loại là: Tiêu cực')\n",
    "    confidence = (1 - pred[0][0]) * 100\n",
    "print(\"Độ tin cậy:\", f\"{confidence:.2f}%\")\n",
    "\n",
    "kq_test = model2.predict(a)\n",
    "if kq_test[0] == 1:\n",
    "    print('Comment này được phân loại là: Tích cực')\n",
    "else:\n",
    "    print('Comment này được phân loại là: Tiêu cực')"
   ]
  },
  {
   "cell_type": "markdown",
   "id": "ec85ec48",
   "metadata": {},
   "source": [
    "# Test model"
   ]
  },
  {
   "cell_type": "markdown",
   "id": "aeac5f59",
   "metadata": {},
   "source": [
    "### Câu chê:\n",
    "\"Thật sự thất vọng với nhà hàng này khi mọi thứ từ dịch vụ đến chất lượng món ăn đều không đạt kỳ vọng. Không gian quán tuy rộng rãi nhưng lại thiếu sự chăm chút, bàn ghế sắp xếp lộn xộn và không sạch sẽ. Món ăn thì nhạt nhẽo, không có gì đặc sắc, thậm chí một số món còn có cảm giác không tươi mới. Nhân viên phục vụ thiếu chuyên nghiệp, thái độ không thân thiện và thời gian chờ đợi món quá lâu. Với mức giá cao như vậy, tôi nghĩ rằng nhà hàng cần cải thiện rất nhiều để xứng đáng với sự kỳ vọng của khách hàng.\"\n",
    "\n",
    "Thật sự 😞 thất vọng vs quán này 👉 https://bit.ly/xyz123 … mọi thứ từ dv 🥲 tới món ăn đều ko đạt 😑. Không gian rộng mà bày biện lộn xộn, bàn ghế còn dính bẩn 🤢. Đồ ăn thì nhạt toẹt, vài món thấy còn ko tươi. Nv thì kiểu khó chịu, gọi 3-4 lần mới ra. Đợi dài cả cổ ⏳. Với giá 💸 như này thì quá chát, chắc chắn ko quay lại 👎.\n",
    "\n",
    "quán này phục vụ nhiệt tình đến mức sợ luôn , khách nói tí thì chửi đánh luôn , sợ \n",
    "\n",
    "### Câu khen:\n",
    "\"Nhà hàng này thực sự là một trải nghiệm ẩm thực đỉnh cao, từ cách bài trí không gian sang trọng, tinh tế cho đến hương vị món ăn được chế biến một cách tỉ mỉ, cầu kỳ. Mỗi món ăn như một tác phẩm nghệ thuật, không chỉ ngon miệng mà còn đẹp mắt, khiến thực khách không thể không trầm trồ. Đội ngũ nhân viên phục vụ chuyên nghiệp, luôn niềm nở và sẵn sàng đáp ứng mọi yêu cầu, tạo cảm giác thoải mái và dễ chịu. Đây chắc chắn là một địa điểm lý tưởng để thưởng thức ẩm thực và tận hưởng những khoảnh khắc đáng nhớ.\"\n",
    "\n",
    "Nhà hàng này đúng là trải nghiệm 5⭐ đỉnh thật 😍👉 https://goo.gl/abc456. Không gian sang xịn mịn ✨, bài trí tinh tế. Món ăn thì cực kỳ ngon, trình bày đẹp mắt như nghệ thuật 🎨, ăn vừa ngon vừa thích mắt. Nv phục vụ thì siêu dễ thương 😊, nhiệt tình khỏi chê, hỏi gì cũng hỗ trợ liền. Đi 1 lần là mê, chắc chắn recommend 👍🔥.\n"
   ]
  }
 ],
 "metadata": {
  "kernelspec": {
   "display_name": "base",
   "language": "python",
   "name": "python3"
  },
  "language_info": {
   "codemirror_mode": {
    "name": "ipython",
    "version": 3
   },
   "file_extension": ".py",
   "mimetype": "text/x-python",
   "name": "python",
   "nbconvert_exporter": "python",
   "pygments_lexer": "ipython3",
   "version": "3.12.3"
  }
 },
 "nbformat": 4,
 "nbformat_minor": 5
}
